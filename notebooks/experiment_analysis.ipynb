{
 "cells": [
  {
   "cell_type": "code",
   "execution_count": 18,
   "metadata": {},
   "outputs": [],
   "source": [
    "import numpy as np\n",
    "import matplotlib.pyplot as plt\n",
    "import pandas as pd\n",
    "\n",
    "OUTPUTS_FOLDER = '../outputs/'\n",
    "\n",
    "experiment_path = OUTPUTS_FOLDER + experiment_filename\n",
    "\n",
    "experiment = np.load(experiment_path, allow_pickle=True).item()"
   ]
  },
  {
   "cell_type": "markdown",
   "metadata": {},
   "source": [
    "# OCO $\\eta$ trend\n",
    "\n",
    "## GDAS, $\\eta$ = 0.1"
   ]
  },
  {
   "cell_type": "code",
   "execution_count": 51,
   "metadata": {},
   "outputs": [
    {
     "name": "stdout",
     "output_type": "stream",
     "text": [
      "Failure rate: 0.063\n",
      "Mean queries: 303.4151547491996\n",
      "Median queries: 18.0\n"
     ]
    }
   ],
   "source": [
    "experiment_filename = '2019-12-16.09-58-oco-0.1.npy'\n",
    "\n",
    "experiment_path = OUTPUTS_FOLDER + experiment_filename\n",
    "\n",
    "experiment = np.load(experiment_path, allow_pickle=True).item()\n",
    "\n",
    "results = experiment['results']\n",
    "\n",
    "queries = results['queries']\n",
    "\n",
    "failure_rate = (queries == -1).sum() / queries.shape[0]\n",
    "\n",
    "successful_queries = queries[queries != -1]\n",
    "mean_queries = successful_queries.mean()\n",
    "median_queries = np.median(successful_queries)\n",
    "\n",
    "print(f'Failure rate: {failure_rate}')\n",
    "print(f'Mean queries: {mean_queries}')\n",
    "print(f'Median queries: {median_queries}')"
   ]
  },
  {
   "cell_type": "code",
   "execution_count": 52,
   "metadata": {},
   "outputs": [
    {
     "data": {
      "image/png": "[encoded data removed]",
      "text/plain": [
       "<Figure size 432x288 with 1 Axes>"
      ]
     },
     "metadata": {
      "needs_background": "light"
     },
     "output_type": "display_data"
    }
   ],
   "source": [
    "plt.hist(results['queries'], bins=100)\n",
    "_ = plt.yscale('log')"
   ]
  },
  {
   "cell_type": "code",
   "execution_count": 38,
   "metadata": {},
   "outputs": [
    {
     "data": {
      "text/plain": [
       "<BarContainer object of 2 artists>"
      ]
     },
     "execution_count": 38,
     "metadata": {},
     "output_type": "execute_result"
    },
    {
     "data": {
      "image/png": "[encoded data removed]",
      "text/plain": [
       "<Figure size 432x288 with 1 Axes>"
      ]
     },
     "metadata": {
      "needs_background": "light"
     },
     "output_type": "display_data"
    }
   ],
   "source": [
    "from collections import Counter\n",
    "\n",
    "final_models = Counter(results['final_model'])\n",
    "\n",
    "plt.bar(list(final_model), [final_model[model] for model in final_models])"
   ]
  },
  {
   "cell_type": "markdown",
   "metadata": {},
   "source": [
    "## GDAS, $\\eta$ = 0.1"
   ]
  },
  {
   "cell_type": "code",
   "execution_count": 53,
   "metadata": {},
   "outputs": [
    {
     "name": "stdout",
     "output_type": "stream",
     "text": [
      "Failure rate: 0.144\n",
      "Mean queries: 684.4836448598131\n",
      "Median queries: 14.0\n"
     ]
    }
   ],
   "source": [
    "experiment_filename = '2019-12-15.22-23-oco-100.npy'\n",
    "\n",
    "experiment_path = OUTPUTS_FOLDER + experiment_filename\n",
    "\n",
    "experiment = np.load(experiment_path, allow_pickle=True).item()\n",
    "\n",
    "results = experiment['results']\n",
    "\n",
    "queries = results['queries']\n",
    "\n",
    "failure_rate = (queries == -1).sum() / queries.shape[0]\n",
    "\n",
    "successful_queries = queries[queries != -1]\n",
    "mean_queries = successful_queries.mean()\n",
    "median_queries = np.median(successful_queries)\n",
    "\n",
    "print(f'Failure rate: {failure_rate}')\n",
    "print(f'Mean queries: {mean_queries}')\n",
    "print(f'Median queries: {median_queries}')"
   ]
  },
  {
   "cell_type": "code",
   "execution_count": 54,
   "metadata": {},
   "outputs": [
    {
     "data": {
      "image/png": "[encoded data removed]",
      "text/plain": [
       "<Figure size 432x288 with 1 Axes>"
      ]
     },
     "metadata": {
      "needs_background": "light"
     },
     "output_type": "display_data"
    }
   ],
   "source": [
    "plt.hist(results['queries'], bins=100)\n",
    "_ = plt.yscale('log')"
   ]
  },
  {
   "cell_type": "code",
   "execution_count": 55,
   "metadata": {},
   "outputs": [
    {
     "data": {
      "text/plain": [
       "<BarContainer object of 2 artists>"
      ]
     },
     "execution_count": 55,
     "metadata": {},
     "output_type": "execute_result"
    },
    {
     "data": {
      "image/png": "[encoded data removed]",
      "text/plain": [
       "<Figure size 432x288 with 1 Axes>"
      ]
     },
     "metadata": {
      "needs_background": "light"
     },
     "output_type": "display_data"
    }
   ],
   "source": [
    "from collections import Counter\n",
    "\n",
    "final_models = Counter(results['final_model'])\n",
    "\n",
    "plt.bar(list(final_model), [final_model[model] for model in final_models])"
   ]
  },
  {
   "cell_type": "code",
   "execution_count": null,
   "metadata": {},
   "outputs": [],
   "source": []
  }
 ],
 "metadata": {
  "kernelspec": {
   "display_name": "Python 3",
   "language": "python",
   "name": "python3"
  },
  "language_info": {
   "codemirror_mode": {
    "name": "ipython",
    "version": 3
   },
   "file_extension": ".py",
   "mimetype": "text/x-python",
   "name": "python",
   "nbconvert_exporter": "python",
   "pygments_lexer": "ipython3",
   "version": "3.7.5"
  }
 },
 "nbformat": 4,
 "nbformat_minor": 4
}
